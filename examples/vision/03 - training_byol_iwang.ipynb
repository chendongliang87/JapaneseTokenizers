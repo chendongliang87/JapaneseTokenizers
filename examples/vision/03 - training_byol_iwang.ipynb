{
  "cells": [
    {
      "cell_type": "code",
      "execution_count": 1,
      "metadata": {
        "colab": {
          "base_uri": "https://localhost:8080/"
        },
        "id": "Qg98biHPBGai",
        "outputId": "4170cfe1-e779-43da-90a6-86350d19ad1f"
      },
      "outputs": [
        {
          "output_type": "stream",
          "name": "stdout",
          "text": [
            "\u001b[?25l   \u001b[90m━━━━━━━━━━━━━━━━━━━━━━━━━━━━━━━━━━━━━━━━\u001b[0m \u001b[32m0.0/41.6 kB\u001b[0m \u001b[31m?\u001b[0m eta \u001b[36m-:--:--\u001b[0m\r\u001b[2K   \u001b[91m━━━━━━━━━━━━━━━━━━━━━━━━━━━━━━━━━━━━━━━\u001b[0m\u001b[90m╺\u001b[0m \u001b[32m41.0/41.6 kB\u001b[0m \u001b[31m4.7 MB/s\u001b[0m eta \u001b[36m0:00:01\u001b[0m\r\u001b[2K   \u001b[90m━━━━━━━━━━━━━━━━━━━━━━━━━━━━━━━━━━━━━━━━\u001b[0m \u001b[32m41.6/41.6 kB\u001b[0m \u001b[31m666.2 kB/s\u001b[0m eta \u001b[36m0:00:00\u001b[0m\n",
            "\u001b[2K   \u001b[90m━━━━━━━━━━━━━━━━━━━━━━━━━━━━━━━━━━━━━━━━\u001b[0m \u001b[32m1.1/1.1 MB\u001b[0m \u001b[31m26.3 MB/s\u001b[0m eta \u001b[36m0:00:00\u001b[0m\n",
            "\u001b[2K   \u001b[90m━━━━━━━━━━━━━━━━━━━━━━━━━━━━━━━━━━━━━━━━\u001b[0m \u001b[32m2.1/2.1 MB\u001b[0m \u001b[31m27.4 MB/s\u001b[0m eta \u001b[36m0:00:00\u001b[0m\n",
            "\u001b[2K   \u001b[90m━━━━━━━━━━━━━━━━━━━━━━━━━━━━━━━━━━━━━━━━\u001b[0m \u001b[32m363.4/363.4 MB\u001b[0m \u001b[31m3.2 MB/s\u001b[0m eta \u001b[36m0:00:00\u001b[0m\n",
            "\u001b[2K   \u001b[90m━━━━━━━━━━━━━━━━━━━━━━━━━━━━━━━━━━━━━━━━\u001b[0m \u001b[32m13.8/13.8 MB\u001b[0m \u001b[31m20.0 MB/s\u001b[0m eta \u001b[36m0:00:00\u001b[0m\n",
            "\u001b[2K   \u001b[90m━━━━━━━━━━━━━━━━━━━━━━━━━━━━━━━━━━━━━━━━\u001b[0m \u001b[32m24.6/24.6 MB\u001b[0m \u001b[31m30.7 MB/s\u001b[0m eta \u001b[36m0:00:00\u001b[0m\n",
            "\u001b[2K   \u001b[90m━━━━━━━━━━━━━━━━━━━━━━━━━━━━━━━━━━━━━━━━\u001b[0m \u001b[32m883.7/883.7 kB\u001b[0m \u001b[31m11.1 MB/s\u001b[0m eta \u001b[36m0:00:00\u001b[0m\n",
            "\u001b[2K   \u001b[90m━━━━━━━━━━━━━━━━━━━━━━━━━━━━━━━━━━━━━━━━\u001b[0m \u001b[32m664.8/664.8 MB\u001b[0m \u001b[31m2.8 MB/s\u001b[0m eta \u001b[36m0:00:00\u001b[0m\n",
            "\u001b[2K   \u001b[90m━━━━━━━━━━━━━━━━━━━━━━━━━━━━━━━━━━━━━━━━\u001b[0m \u001b[32m211.5/211.5 MB\u001b[0m \u001b[31m5.2 MB/s\u001b[0m eta \u001b[36m0:00:00\u001b[0m\n",
            "\u001b[2K   \u001b[90m━━━━━━━━━━━━━━━━━━━━━━━━━━━━━━━━━━━━━━━━\u001b[0m \u001b[32m56.3/56.3 MB\u001b[0m \u001b[31m11.8 MB/s\u001b[0m eta \u001b[36m0:00:00\u001b[0m\n",
            "\u001b[2K   \u001b[90m━━━━━━━━━━━━━━━━━━━━━━━━━━━━━━━━━━━━━━━━\u001b[0m \u001b[32m127.9/127.9 MB\u001b[0m \u001b[31m7.3 MB/s\u001b[0m eta \u001b[36m0:00:00\u001b[0m\n",
            "\u001b[2K   \u001b[90m━━━━━━━━━━━━━━━━━━━━━━━━━━━━━━━━━━━━━━━━\u001b[0m \u001b[32m207.5/207.5 MB\u001b[0m \u001b[31m5.8 MB/s\u001b[0m eta \u001b[36m0:00:00\u001b[0m\n",
            "\u001b[2K   \u001b[90m━━━━━━━━━━━━━━━━━━━━━━━━━━━━━━━━━━━━━━━━\u001b[0m \u001b[32m21.1/21.1 MB\u001b[0m \u001b[31m74.3 MB/s\u001b[0m eta \u001b[36m0:00:00\u001b[0m\n",
            "\u001b[?25h"
          ]
        }
      ],
      "source": [
        "#hide\n",
        "#skip\n",
        "! [ -e /content ] && pip install -Uqq self-supervised"
      ]
    },
    {
      "cell_type": "markdown",
      "metadata": {
        "id": "2C7NQhs1BGak"
      },
      "source": [
        "# BYOL ImageWang Tutorial"
      ]
    },
    {
      "cell_type": "markdown",
      "metadata": {
        "id": "jzKABF9_BGal"
      },
      "source": [
        "First import **fastai** for training and other helpers, you can choose not to use **wandb** by setting `WANDB=False`."
      ]
    },
    {
      "cell_type": "code",
      "execution_count": 2,
      "metadata": {
        "id": "gDhpVtcFBGal"
      },
      "outputs": [],
      "source": [
        "from fastai.vision.all import *\n",
        "torch.backends.cudnn.benchmark = True\n",
        "WANDB = False\n",
        "if WANDB:\n",
        "    try:\n",
        "        from fastai.callback.wandb import WandbCallback\n",
        "        import wandb\n",
        "    except:\n",
        "        raise ImportError(\"Please run '!pip install wandb' on another cell to install wandb\")"
      ]
    },
    {
      "cell_type": "markdown",
      "metadata": {
        "id": "6klU0SHqBGal"
      },
      "source": [
        "Then import **self_supervised** `augmentations` module for creating augmentations pipeline, `layers` module for creating encoder and model, and finally `byol` for self-supervised training."
      ]
    },
    {
      "cell_type": "code",
      "execution_count": 3,
      "metadata": {
        "id": "4fJoyw-dBGal"
      },
      "outputs": [],
      "source": [
        "from self_supervised.augmentations import *\n",
        "from self_supervised.layers import *\n",
        "from self_supervised.vision.byol import *"
      ]
    },
    {
      "cell_type": "markdown",
      "metadata": {
        "id": "Fyc8HKQ4BGal"
      },
      "source": [
        "In this notebook we will take a look at [ImageWang](https://github.com/fastai/imagenette#image%E7%BD%91) benchmark, how to train a self-supervised model using MoCo algorithm and then how to use this pretrained model for finetuning on the given downstream task."
      ]
    },
    {
      "cell_type": "markdown",
      "metadata": {
        "id": "ViC13HSPBGam"
      },
      "source": [
        "## Pretraining"
      ]
    },
    {
      "cell_type": "code",
      "execution_count": 4,
      "metadata": {
        "id": "35RXiOpOBGam"
      },
      "outputs": [],
      "source": [
        "def get_dls(size, bs, workers=None):\n",
        "    path = URLs.IMAGEWANG_160 if size <= 160 else URLs.IMAGEWANG\n",
        "    source = untar_data(path)\n",
        "\n",
        "    files = get_image_files(source)\n",
        "    tfms = [[PILImage.create, ToTensor, RandomResizedCrop(size, min_scale=1.)],\n",
        "            [parent_label, Categorize()]]\n",
        "\n",
        "    dsets = Datasets(files, tfms=tfms, splits=RandomSplitter(valid_pct=0.1)(files))\n",
        "\n",
        "    batch_tfms = [IntToFloatTensor]\n",
        "    dls = dsets.dataloaders(bs=bs, num_workers=workers, after_batch=batch_tfms)\n",
        "    return dls"
      ]
    },
    {
      "cell_type": "markdown",
      "metadata": {
        "id": "px8Dg5PjBGam"
      },
      "source": [
        "ImageWang has several benchmarks for different image sizes, in this tutorial we will go for `size=224` and also demonstrate how effectively you can utilize GPU memory."
      ]
    },
    {
      "cell_type": "markdown",
      "metadata": {
        "id": "Fw9xWdpjBGam"
      },
      "source": [
        "Define batch size, resize resolution before batching and size for random cropping during self-supervised training. It's always good to use a batch size as high as it can fit the GPU memory or you can use the extra memory to run parallel experiments :)"
      ]
    },
    {
      "cell_type": "code",
      "execution_count": 5,
      "metadata": {
        "id": "GFicVRVtBGam"
      },
      "outputs": [],
      "source": [
        "bs, resize, size = 256, 256, 224"
      ]
    },
    {
      "cell_type": "markdown",
      "metadata": {
        "id": "NhUDjYmHBGan"
      },
      "source": [
        "Select architecture to train on, remember all **timm** and **fastai** models are available! We need to set `pretrained=False` here because using imagenet weights for ImageWang data would be cheating."
      ]
    },
    {
      "cell_type": "code",
      "execution_count": 10,
      "metadata": {
        "id": "aFF0mQBoBGan"
      },
      "outputs": [],
      "source": [
        "arch = \"xresnet34\"\n",
        "encoder = create_timm_encoder(\"resnext50_32x4d\", pretrained=False, n_in=3)"
      ]
    },
    {
      "cell_type": "code",
      "execution_count": 11,
      "metadata": {
        "id": "w5B85E-DBGan"
      },
      "outputs": [],
      "source": [
        "if WANDB:\n",
        "    xtra_config = {\"Arch\":arch, \"Resize\":resize, \"Size\":size, \"Algorithm\":\"BYOL\"}\n",
        "    wandb.init(project=\"self-supervised-imagewang\", config=xtra_config);"
      ]
    },
    {
      "cell_type": "markdown",
      "metadata": {
        "id": "UVHB-pJeBGan"
      },
      "source": [
        "Initialize the Dataloaders using the function above."
      ]
    },
    {
      "cell_type": "code",
      "execution_count": 8,
      "metadata": {
        "colab": {
          "base_uri": "https://localhost:8080/",
          "height": 37
        },
        "id": "qmZL6Y3iBGan",
        "outputId": "9943bd47-cee2-4019-94cc-e74655ddd49a"
      },
      "outputs": [
        {
          "output_type": "display_data",
          "data": {
            "text/plain": [
              "<IPython.core.display.HTML object>"
            ],
            "text/html": [
              "\n",
              "<style>\n",
              "    /* Turns off some styling */\n",
              "    progress {\n",
              "        /* gets rid of default border in Firefox and Opera. */\n",
              "        border: none;\n",
              "        /* Needs to be in here for Safari polyfill so background images work as expected. */\n",
              "        background-size: auto;\n",
              "    }\n",
              "    progress:not([value]), progress:not([value])::-webkit-progress-bar {\n",
              "        background: repeating-linear-gradient(45deg, #7e7e7e, #7e7e7e 10px, #5c5c5c 10px, #5c5c5c 20px);\n",
              "    }\n",
              "    .progress-bar-interrupted, .progress-bar-interrupted::-webkit-progress-bar {\n",
              "        background: #F44336;\n",
              "    }\n",
              "</style>\n"
            ]
          },
          "metadata": {}
        },
        {
          "output_type": "display_data",
          "data": {
            "text/plain": [
              "<IPython.core.display.HTML object>"
            ],
            "text/html": [
              "\n",
              "    <div>\n",
              "      <progress value='2900353024' class='' max='2900347689' style='width:300px; height:20px; vertical-align: middle;'></progress>\n",
              "      100.00% [2900353024/2900347689 01:02&lt;00:00]\n",
              "    </div>\n",
              "    "
            ]
          },
          "metadata": {}
        }
      ],
      "source": [
        "dls = get_dls(resize, bs)"
      ]
    },
    {
      "cell_type": "markdown",
      "metadata": {
        "id": "mM4B-9ewBGan"
      },
      "source": [
        "Create BYOL model. You can change values of `hidden_size`, `projection_size`. For this problem, defaults work just fine so we don't do any changes."
      ]
    },
    {
      "cell_type": "code",
      "execution_count": 12,
      "metadata": {
        "id": "YhvAcM71BGao"
      },
      "outputs": [],
      "source": [
        "model = create_byol_model(encoder)"
      ]
    },
    {
      "cell_type": "markdown",
      "metadata": {
        "id": "cu01if7NBGao"
      },
      "source": [
        "Next step is perhaps the most critical step for achieving good results on a custom problem - data augmentation. For this, we will use utility function from `self_supervised.vision.byol.get_byol_aug_pipelines` but you can also use your own list of Pipeline augmentations. `self_supervised.vision.byol.get_byol_aug_pipelines`should be enough for most of the cases since under the hood it uses `self_supervised.augmentations.get_multi_aug_pipelines` and `self_supervised.augmentations.get_batch_augs`. You can do shift+tab and see all the arguments that can be passed to `get_byol_aug_pipelines`. You can simply pass anything that you could pass to `get_batch_augs` including custom `xtra_tfms`."
      ]
    },
    {
      "cell_type": "markdown",
      "metadata": {
        "id": "-Rm4DD8MBGao"
      },
      "source": [
        "`get_byol_aug_pipelines` excepts size for random resized cropping of the 2 views of a given image and the rest of the arguments are coming from `get_batch_augs()`"
      ]
    },
    {
      "cell_type": "code",
      "execution_count": 13,
      "metadata": {
        "id": "5_duBGSOBGao"
      },
      "outputs": [],
      "source": [
        "aug_pipelines = get_byol_aug_pipelines(size, rotate=True, rotate_deg=10, jitter=True, bw=True, blur=False)"
      ]
    },
    {
      "cell_type": "markdown",
      "metadata": {
        "id": "jQJs1lYABGao"
      },
      "source": [
        "Here, we will feed the augmentation pipelines and queue size, and leave momentum parameter as default."
      ]
    },
    {
      "cell_type": "code",
      "execution_count": 14,
      "metadata": {
        "id": "kLQXJeKLBGao"
      },
      "outputs": [],
      "source": [
        "cbs=[BYOL(aug_pipelines)]\n",
        "if WANDB: cbs += [WandbCallback(log_preds=False,log_model=False)]"
      ]
    },
    {
      "cell_type": "code",
      "execution_count": 15,
      "metadata": {
        "id": "9KaaIw2iBGao"
      },
      "outputs": [],
      "source": [
        "learn = Learner(dls, model, cbs=cbs)"
      ]
    },
    {
      "cell_type": "markdown",
      "metadata": {
        "id": "hTo7Ze6bBGao"
      },
      "source": [
        "Before starting training let's check whether our augmentations makes sense or not. Since this step consumes GPU memory, once you are done with inspection, restart the notebook and skip this step. We can see that 2 views of the same image side by side and indeed augmentations look pretty good. Now, it's time restart the notebook and skip this step."
      ]
    },
    {
      "cell_type": "code",
      "execution_count": null,
      "metadata": {
        "id": "7V8rTzugBGao"
      },
      "outputs": [],
      "source": [
        "b = dls.one_batch()\n",
        "learn._split(b)\n",
        "learn('before_fit')\n",
        "learn('before_batch')\n",
        "learn.byol.show(n=5);"
      ]
    },
    {
      "cell_type": "markdown",
      "metadata": {
        "id": "AdqmKgovBGap"
      },
      "source": [
        "Use mixed precision with `to_fp16()` for more GPU memory, larger batch size and faster training . We could also use gradient checkpointing wrapper models from `self_supervised.layers` to save even more memory, e.g. `CheckpointSequential()`."
      ]
    },
    {
      "cell_type": "code",
      "execution_count": null,
      "metadata": {
        "id": "hUBoYHTqBGap"
      },
      "outputs": [],
      "source": [
        "learn.to_fp16();"
      ]
    },
    {
      "cell_type": "markdown",
      "metadata": {
        "id": "UNFh96ERBGap"
      },
      "source": [
        "Learning good representations via contrastive learning usually takes a lot of epochs. So here number epochs are set to 100. This might change depending on your data distribution and dataset size."
      ]
    },
    {
      "cell_type": "code",
      "execution_count": null,
      "metadata": {
        "id": "Rj6mn4pKBGap"
      },
      "outputs": [],
      "source": [
        "lr,wd,epochs=1e-2,1e-2,100"
      ]
    },
    {
      "cell_type": "code",
      "execution_count": null,
      "metadata": {
        "id": "_rt8j_JbBGaq"
      },
      "outputs": [],
      "source": [
        "learn.unfreeze()\n",
        "learn.fit_flat_cos(epochs, lr, wd=wd, pct_start=0.5)"
      ]
    },
    {
      "cell_type": "code",
      "execution_count": null,
      "metadata": {
        "id": "BJXO8b2pBGaq"
      },
      "outputs": [],
      "source": [
        "if WANDB: wandb.finish()"
      ]
    },
    {
      "cell_type": "code",
      "execution_count": null,
      "metadata": {
        "id": "qz-u6HbsBGaq"
      },
      "outputs": [],
      "source": [
        "save_name = f'byol_iwang_sz{size}_epc{epochs}'\n",
        "learn.save(save_name)\n",
        "torch.save(learn.model.encoder.state_dict(), learn.path/learn.model_dir/f'{save_name}_encoder.pth')"
      ]
    },
    {
      "cell_type": "code",
      "execution_count": null,
      "metadata": {
        "id": "R3ngekrhBGaq"
      },
      "outputs": [],
      "source": [
        "learn.recorder.plot_loss()"
      ]
    },
    {
      "cell_type": "markdown",
      "metadata": {
        "id": "-iMb1kYNBGaq"
      },
      "source": [
        "## Downstream Task"
      ]
    },
    {
      "cell_type": "code",
      "execution_count": null,
      "metadata": {
        "id": "hdSX60sUBGar"
      },
      "outputs": [],
      "source": [
        "optdict = dict(sqr_mom=0.99,mom=0.95,beta=0.,eps=1e-4)\n",
        "opt_func = partial(ranger, **optdict)"
      ]
    },
    {
      "cell_type": "code",
      "execution_count": null,
      "metadata": {
        "id": "w532qkCHBGar"
      },
      "outputs": [],
      "source": [
        "bs, size"
      ]
    },
    {
      "cell_type": "code",
      "execution_count": null,
      "metadata": {
        "id": "nfe5xMeuBGar"
      },
      "outputs": [],
      "source": [
        "def get_dls(size, bs, workers=None):\n",
        "    path = URLs.IMAGEWANG_160 if size <= 160 else URLs.IMAGEWANG\n",
        "    source = untar_data(path)\n",
        "    files = get_image_files(source, folders=['train', 'val'])\n",
        "    splits = GrandparentSplitter(valid_name='val')(files)\n",
        "\n",
        "    item_aug = [RandomResizedCrop(size, min_scale=0.35), FlipItem(0.5)]\n",
        "    tfms = [[PILImage.create, ToTensor, *item_aug],\n",
        "            [parent_label, Categorize()]]\n",
        "\n",
        "    dsets = Datasets(files, tfms=tfms, splits=splits)\n",
        "\n",
        "    batch_tfms = [IntToFloatTensor, Normalize.from_stats(*imagenet_stats)]\n",
        "    dls = dsets.dataloaders(bs=bs, num_workers=workers, after_batch=batch_tfms)\n",
        "    return dls"
      ]
    },
    {
      "cell_type": "code",
      "execution_count": null,
      "metadata": {
        "id": "gQz0fOqkBGar"
      },
      "outputs": [],
      "source": [
        "def split_func(m): return L(m[0], m[1]).map(params)\n",
        "\n",
        "def create_learner(size=size, arch='xresnet34', encoder_path=\"models/byol_iwang_sz128_epc100_encoder.pth\"):\n",
        "\n",
        "    dls = get_dls(size, bs=bs//2)\n",
        "    pretrained_encoder = torch.load(encoder_path)\n",
        "    encoder = create_encoder(arch, pretrained=False, n_in=3)\n",
        "    encoder.load_state_dict(pretrained_encoder)\n",
        "    nf = encoder(torch.randn(2,3,224,224)).size(-1)\n",
        "    classifier = create_cls_module(nf, dls.c)\n",
        "    model = nn.Sequential(encoder, classifier)\n",
        "    learn = Learner(dls, model, opt_func=opt_func, splitter=split_func,\n",
        "                metrics=[accuracy,top_k_accuracy], loss_func=LabelSmoothingCrossEntropy())\n",
        "    return learn"
      ]
    },
    {
      "cell_type": "code",
      "execution_count": null,
      "metadata": {
        "id": "8y8jCfWOBGas"
      },
      "outputs": [],
      "source": [
        "def finetune(size, epochs, arch, encoder_path, lr=1e-2, wd=1e-2):\n",
        "    learn = create_learner(size, arch, encoder_path)\n",
        "    learn.unfreeze()\n",
        "    learn.fit_flat_cos(epochs, lr, wd=wd)\n",
        "    final_acc = learn.recorder.values[-1][-2]\n",
        "    return final_acc"
      ]
    },
    {
      "cell_type": "markdown",
      "metadata": {
        "id": "hSqzboQVBGas"
      },
      "source": [
        "### 5 epochs"
      ]
    },
    {
      "cell_type": "code",
      "execution_count": null,
      "metadata": {
        "id": "1XmkeeTaBGas"
      },
      "outputs": [],
      "source": [
        "acc = []\n",
        "runs = 5\n",
        "for i in range(runs): acc += [finetune(size, epochs=5, arch='xresnet34', encoder_path=f'models/byol_iwang_sz{size}_epc100_encoder.pth')]"
      ]
    },
    {
      "cell_type": "code",
      "execution_count": null,
      "metadata": {
        "id": "LUTiAat2BGat"
      },
      "outputs": [],
      "source": [
        "np.mean(acc)"
      ]
    },
    {
      "cell_type": "markdown",
      "metadata": {
        "id": "Kzm629mQBGat"
      },
      "source": [
        "### 20 epochs"
      ]
    },
    {
      "cell_type": "code",
      "execution_count": null,
      "metadata": {
        "id": "c97ToNirBGat"
      },
      "outputs": [],
      "source": [
        "acc = []\n",
        "runs = 3\n",
        "for i in range(runs): acc += [finetune(size, epochs=20, arch='xresnet34', encoder_path=f'models/byol_iwang_sz{size}_epc100_encoder.pth')]"
      ]
    },
    {
      "cell_type": "code",
      "execution_count": null,
      "metadata": {
        "id": "GA7SrUpaBGat"
      },
      "outputs": [],
      "source": [
        "np.mean(acc)"
      ]
    },
    {
      "cell_type": "markdown",
      "metadata": {
        "id": "9bX-XhIQBGat"
      },
      "source": [
        "### 80 epochs"
      ]
    },
    {
      "cell_type": "code",
      "execution_count": null,
      "metadata": {
        "id": "af5fEv6DBGat"
      },
      "outputs": [],
      "source": [
        "acc = []\n",
        "runs = 1\n",
        "for i in range(runs): acc += [finetune(size, epochs=80, arch='xresnet34',encoder_path=f'models/byol_iwang_sz{size}_epc100_encoder.pth')]"
      ]
    },
    {
      "cell_type": "code",
      "execution_count": null,
      "metadata": {
        "id": "vvDZwiJxBGat"
      },
      "outputs": [],
      "source": [
        "np.mean(acc)"
      ]
    },
    {
      "cell_type": "markdown",
      "metadata": {
        "id": "zp45eqELBGat"
      },
      "source": [
        "### 200 epochs"
      ]
    },
    {
      "cell_type": "code",
      "execution_count": null,
      "metadata": {
        "id": "nN3cjPczBGat"
      },
      "outputs": [],
      "source": [
        "acc = []\n",
        "runs = 1\n",
        "for i in range(runs): acc += [finetune(size, epochs=200, arch='xresnet34', encoder_path=f'models/byol_iwang_sz{size}_epc100_encoder.pth')]\n",
        "np.mean(acc)"
      ]
    },
    {
      "cell_type": "code",
      "execution_count": null,
      "metadata": {
        "id": "TO2Wcaf0BGat"
      },
      "outputs": [],
      "source": [
        "np.mean(acc)"
      ]
    },
    {
      "cell_type": "code",
      "execution_count": null,
      "metadata": {
        "id": "PADMtGUiBGat"
      },
      "outputs": [],
      "source": []
    }
  ],
  "metadata": {
    "kernelspec": {
      "display_name": "Python 3",
      "language": "python",
      "name": "python3"
    },
    "language_info": {
      "codemirror_mode": {
        "name": "ipython",
        "version": 3
      },
      "file_extension": ".py",
      "mimetype": "text/x-python",
      "name": "python",
      "nbconvert_exporter": "python",
      "pygments_lexer": "ipython3",
      "version": "3.7.1"
    },
    "colab": {
      "provenance": []
    }
  },
  "nbformat": 4,
  "nbformat_minor": 0
}